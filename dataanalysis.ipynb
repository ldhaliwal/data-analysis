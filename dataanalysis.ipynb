{
 "cells": [
  {
   "cell_type": "markdown",
   "metadata": {},
   "source": [
    "## Data Exploration"
   ]
  },
  {
   "cell_type": "markdown",
   "metadata": {},
   "source": [
    "### import libraries"
   ]
  },
  {
   "cell_type": "code",
   "execution_count": 1,
   "metadata": {},
   "outputs": [
    {
     "name": "stderr",
     "output_type": "stream",
     "text": [
      "/var/folders/5j/3nf89wy94797pmc98lsh3xy00000gn/T/ipykernel_71582/3711532654.py:1: DeprecationWarning: \n",
      "Pyarrow will become a required dependency of pandas in the next major release of pandas (pandas 3.0),\n",
      "(to allow more performant data types, such as the Arrow string type, and better interoperability with other libraries)\n",
      "but was not found to be installed on your system.\n",
      "If this would cause problems for you,\n",
      "please provide us feedback at https://github.com/pandas-dev/pandas/issues/54466\n",
      "        \n",
      "  import pandas as pd\n"
     ]
    }
   ],
   "source": [
    "import pandas as pd\n",
    "import numpy as np\n",
    "import matplotlib.pyplot as plt\n",
    "import seaborn as sns\n",
    "\n",
    "pd.set_option(\"display.max_columns\", 200)"
   ]
  },
  {
   "cell_type": "code",
   "execution_count": 2,
   "metadata": {},
   "outputs": [],
   "source": [
    "df = pd.read_csv(\"data/atp_tennis.csv\")"
   ]
  },
  {
   "cell_type": "code",
   "execution_count": 4,
   "metadata": {},
   "outputs": [
    {
     "name": "stdout",
     "output_type": "stream",
     "text": [
      "<class 'pandas.core.frame.DataFrame'>\n",
      "RangeIndex: 25362 entries, 0 to 25361\n",
      "Data columns (total 17 columns):\n",
      " #   Column      Non-Null Count  Dtype  \n",
      "---  ------      --------------  -----  \n",
      " 0   Tournament  25362 non-null  object \n",
      " 1   Date        25362 non-null  object \n",
      " 2   Series      25362 non-null  object \n",
      " 3   Court       25362 non-null  object \n",
      " 4   Surface     25362 non-null  object \n",
      " 5   Round       25362 non-null  object \n",
      " 6   Best of     25362 non-null  int64  \n",
      " 7   Player_1    25362 non-null  object \n",
      " 8   Player_2    25362 non-null  object \n",
      " 9   Winner      25362 non-null  object \n",
      " 10  Rank_1      25362 non-null  int64  \n",
      " 11  Rank_2      25362 non-null  int64  \n",
      " 12  Pts_1       25362 non-null  int64  \n",
      " 13  Pts_2       25362 non-null  int64  \n",
      " 14  Odd_1       25362 non-null  float64\n",
      " 15  Odd_2       25362 non-null  float64\n",
      " 16  score       25362 non-null  object \n",
      "dtypes: float64(2), int64(5), object(10)\n",
      "memory usage: 3.3+ MB\n"
     ]
    }
   ],
   "source": [
    "df.shape\n",
    "\n",
    "df.info()"
   ]
  },
  {
   "cell_type": "code",
   "execution_count": 7,
   "metadata": {},
   "outputs": [
    {
     "data": {
      "text/html": [
       "<div>\n",
       "<style scoped>\n",
       "    .dataframe tbody tr th:only-of-type {\n",
       "        vertical-align: middle;\n",
       "    }\n",
       "\n",
       "    .dataframe tbody tr th {\n",
       "        vertical-align: top;\n",
       "    }\n",
       "\n",
       "    .dataframe thead th {\n",
       "        text-align: right;\n",
       "    }\n",
       "</style>\n",
       "<table border=\"1\" class=\"dataframe\">\n",
       "  <thead>\n",
       "    <tr style=\"text-align: right;\">\n",
       "      <th></th>\n",
       "      <th>Tournament</th>\n",
       "      <th>Date</th>\n",
       "      <th>Series</th>\n",
       "      <th>Court</th>\n",
       "      <th>Surface</th>\n",
       "      <th>Round</th>\n",
       "      <th>Best of</th>\n",
       "      <th>Player_1</th>\n",
       "      <th>Player_2</th>\n",
       "      <th>Winner</th>\n",
       "      <th>Rank_1</th>\n",
       "      <th>Rank_2</th>\n",
       "      <th>Pts_1</th>\n",
       "      <th>Pts_2</th>\n",
       "      <th>Odd_1</th>\n",
       "      <th>Odd_2</th>\n",
       "      <th>score</th>\n",
       "    </tr>\n",
       "  </thead>\n",
       "  <tbody>\n",
       "    <tr>\n",
       "      <th>0</th>\n",
       "      <td>Brisbane International</td>\n",
       "      <td>2012-12-31</td>\n",
       "      <td>ATP250</td>\n",
       "      <td>Outdoor</td>\n",
       "      <td>Hard</td>\n",
       "      <td>1st Round</td>\n",
       "      <td>3</td>\n",
       "      <td>Mayer F.</td>\n",
       "      <td>Giraldo S.</td>\n",
       "      <td>Mayer F.</td>\n",
       "      <td>28</td>\n",
       "      <td>57</td>\n",
       "      <td>1215</td>\n",
       "      <td>778</td>\n",
       "      <td>1.36</td>\n",
       "      <td>3.00</td>\n",
       "      <td>6-4 6-4</td>\n",
       "    </tr>\n",
       "    <tr>\n",
       "      <th>1</th>\n",
       "      <td>Brisbane International</td>\n",
       "      <td>2012-12-31</td>\n",
       "      <td>ATP250</td>\n",
       "      <td>Outdoor</td>\n",
       "      <td>Hard</td>\n",
       "      <td>1st Round</td>\n",
       "      <td>3</td>\n",
       "      <td>Benneteau J.</td>\n",
       "      <td>Nieminen J.</td>\n",
       "      <td>Nieminen J.</td>\n",
       "      <td>35</td>\n",
       "      <td>41</td>\n",
       "      <td>1075</td>\n",
       "      <td>927</td>\n",
       "      <td>2.20</td>\n",
       "      <td>1.61</td>\n",
       "      <td>3-6 6-2 1-6</td>\n",
       "    </tr>\n",
       "    <tr>\n",
       "      <th>2</th>\n",
       "      <td>Brisbane International</td>\n",
       "      <td>2012-12-31</td>\n",
       "      <td>ATP250</td>\n",
       "      <td>Outdoor</td>\n",
       "      <td>Hard</td>\n",
       "      <td>1st Round</td>\n",
       "      <td>3</td>\n",
       "      <td>Nishikori K.</td>\n",
       "      <td>Matosevic M.</td>\n",
       "      <td>Nishikori K.</td>\n",
       "      <td>19</td>\n",
       "      <td>49</td>\n",
       "      <td>1830</td>\n",
       "      <td>845</td>\n",
       "      <td>1.25</td>\n",
       "      <td>3.75</td>\n",
       "      <td>7-5 6-2</td>\n",
       "    </tr>\n",
       "    <tr>\n",
       "      <th>3</th>\n",
       "      <td>Brisbane International</td>\n",
       "      <td>2012-12-31</td>\n",
       "      <td>ATP250</td>\n",
       "      <td>Outdoor</td>\n",
       "      <td>Hard</td>\n",
       "      <td>1st Round</td>\n",
       "      <td>3</td>\n",
       "      <td>Mitchell B.</td>\n",
       "      <td>Baghdatis M.</td>\n",
       "      <td>Baghdatis M.</td>\n",
       "      <td>326</td>\n",
       "      <td>36</td>\n",
       "      <td>137</td>\n",
       "      <td>1070</td>\n",
       "      <td>9.00</td>\n",
       "      <td>1.07</td>\n",
       "      <td>4-6 4-6</td>\n",
       "    </tr>\n",
       "    <tr>\n",
       "      <th>4</th>\n",
       "      <td>Brisbane International</td>\n",
       "      <td>2013-01-01</td>\n",
       "      <td>ATP250</td>\n",
       "      <td>Outdoor</td>\n",
       "      <td>Hard</td>\n",
       "      <td>1st Round</td>\n",
       "      <td>3</td>\n",
       "      <td>Istomin D.</td>\n",
       "      <td>Klizan M.</td>\n",
       "      <td>Istomin D.</td>\n",
       "      <td>43</td>\n",
       "      <td>30</td>\n",
       "      <td>897</td>\n",
       "      <td>1175</td>\n",
       "      <td>1.90</td>\n",
       "      <td>1.80</td>\n",
       "      <td>6-1 6-2</td>\n",
       "    </tr>\n",
       "    <tr>\n",
       "      <th>5</th>\n",
       "      <td>Brisbane International</td>\n",
       "      <td>2013-01-01</td>\n",
       "      <td>ATP250</td>\n",
       "      <td>Outdoor</td>\n",
       "      <td>Hard</td>\n",
       "      <td>1st Round</td>\n",
       "      <td>3</td>\n",
       "      <td>Ito T.</td>\n",
       "      <td>Millman J.</td>\n",
       "      <td>Millman J.</td>\n",
       "      <td>79</td>\n",
       "      <td>199</td>\n",
       "      <td>655</td>\n",
       "      <td>239</td>\n",
       "      <td>2.20</td>\n",
       "      <td>1.61</td>\n",
       "      <td>4-6 1-6</td>\n",
       "    </tr>\n",
       "    <tr>\n",
       "      <th>6</th>\n",
       "      <td>Brisbane International</td>\n",
       "      <td>2013-01-01</td>\n",
       "      <td>ATP250</td>\n",
       "      <td>Outdoor</td>\n",
       "      <td>Hard</td>\n",
       "      <td>1st Round</td>\n",
       "      <td>3</td>\n",
       "      <td>Falla A.</td>\n",
       "      <td>Levine J.</td>\n",
       "      <td>Falla A.</td>\n",
       "      <td>54</td>\n",
       "      <td>104</td>\n",
       "      <td>809</td>\n",
       "      <td>530</td>\n",
       "      <td>2.20</td>\n",
       "      <td>1.61</td>\n",
       "      <td>6-1 7-6</td>\n",
       "    </tr>\n",
       "    <tr>\n",
       "      <th>7</th>\n",
       "      <td>Brisbane International</td>\n",
       "      <td>2013-01-01</td>\n",
       "      <td>ATP250</td>\n",
       "      <td>Outdoor</td>\n",
       "      <td>Hard</td>\n",
       "      <td>1st Round</td>\n",
       "      <td>3</td>\n",
       "      <td>Kudla D.</td>\n",
       "      <td>Melzer J.</td>\n",
       "      <td>Melzer J.</td>\n",
       "      <td>137</td>\n",
       "      <td>29</td>\n",
       "      <td>402</td>\n",
       "      <td>1177</td>\n",
       "      <td>2.62</td>\n",
       "      <td>1.44</td>\n",
       "      <td>6-2 4-6 4-6</td>\n",
       "    </tr>\n",
       "    <tr>\n",
       "      <th>8</th>\n",
       "      <td>Brisbane International</td>\n",
       "      <td>2013-01-01</td>\n",
       "      <td>ATP250</td>\n",
       "      <td>Outdoor</td>\n",
       "      <td>Hard</td>\n",
       "      <td>1st Round</td>\n",
       "      <td>3</td>\n",
       "      <td>Robredo T.</td>\n",
       "      <td>Harrison R.</td>\n",
       "      <td>Robredo T.</td>\n",
       "      <td>114</td>\n",
       "      <td>69</td>\n",
       "      <td>495</td>\n",
       "      <td>710</td>\n",
       "      <td>3.00</td>\n",
       "      <td>1.36</td>\n",
       "      <td>6-4 7-6</td>\n",
       "    </tr>\n",
       "    <tr>\n",
       "      <th>9</th>\n",
       "      <td>Brisbane International</td>\n",
       "      <td>2013-01-01</td>\n",
       "      <td>ATP250</td>\n",
       "      <td>Outdoor</td>\n",
       "      <td>Hard</td>\n",
       "      <td>1st Round</td>\n",
       "      <td>3</td>\n",
       "      <td>Baker B.</td>\n",
       "      <td>Dimitrov G.</td>\n",
       "      <td>Dimitrov G.</td>\n",
       "      <td>61</td>\n",
       "      <td>48</td>\n",
       "      <td>756</td>\n",
       "      <td>866</td>\n",
       "      <td>3.00</td>\n",
       "      <td>1.36</td>\n",
       "      <td>3-6 6-7</td>\n",
       "    </tr>\n",
       "  </tbody>\n",
       "</table>\n",
       "</div>"
      ],
      "text/plain": [
       "               Tournament        Date  Series    Court Surface      Round  \\\n",
       "0  Brisbane International  2012-12-31  ATP250  Outdoor    Hard  1st Round   \n",
       "1  Brisbane International  2012-12-31  ATP250  Outdoor    Hard  1st Round   \n",
       "2  Brisbane International  2012-12-31  ATP250  Outdoor    Hard  1st Round   \n",
       "3  Brisbane International  2012-12-31  ATP250  Outdoor    Hard  1st Round   \n",
       "4  Brisbane International  2013-01-01  ATP250  Outdoor    Hard  1st Round   \n",
       "5  Brisbane International  2013-01-01  ATP250  Outdoor    Hard  1st Round   \n",
       "6  Brisbane International  2013-01-01  ATP250  Outdoor    Hard  1st Round   \n",
       "7  Brisbane International  2013-01-01  ATP250  Outdoor    Hard  1st Round   \n",
       "8  Brisbane International  2013-01-01  ATP250  Outdoor    Hard  1st Round   \n",
       "9  Brisbane International  2013-01-01  ATP250  Outdoor    Hard  1st Round   \n",
       "\n",
       "   Best of      Player_1      Player_2        Winner  Rank_1  Rank_2  Pts_1  \\\n",
       "0        3      Mayer F.    Giraldo S.      Mayer F.      28      57   1215   \n",
       "1        3  Benneteau J.   Nieminen J.   Nieminen J.      35      41   1075   \n",
       "2        3  Nishikori K.  Matosevic M.  Nishikori K.      19      49   1830   \n",
       "3        3   Mitchell B.  Baghdatis M.  Baghdatis M.     326      36    137   \n",
       "4        3    Istomin D.     Klizan M.    Istomin D.      43      30    897   \n",
       "5        3        Ito T.    Millman J.    Millman J.      79     199    655   \n",
       "6        3      Falla A.     Levine J.      Falla A.      54     104    809   \n",
       "7        3      Kudla D.     Melzer J.     Melzer J.     137      29    402   \n",
       "8        3    Robredo T.   Harrison R.    Robredo T.     114      69    495   \n",
       "9        3      Baker B.   Dimitrov G.   Dimitrov G.      61      48    756   \n",
       "\n",
       "   Pts_2  Odd_1  Odd_2          score  \n",
       "0    778   1.36   3.00     6-4 6-4     \n",
       "1    927   2.20   1.61  3-6 6-2 1-6    \n",
       "2    845   1.25   3.75     7-5 6-2     \n",
       "3   1070   9.00   1.07     4-6 4-6     \n",
       "4   1175   1.90   1.80     6-1 6-2     \n",
       "5    239   2.20   1.61     4-6 1-6     \n",
       "6    530   2.20   1.61     6-1 7-6     \n",
       "7   1177   2.62   1.44  6-2 4-6 4-6    \n",
       "8    710   3.00   1.36     6-4 7-6     \n",
       "9    866   3.00   1.36     3-6 6-7     "
      ]
     },
     "execution_count": 7,
     "metadata": {},
     "output_type": "execute_result"
    }
   ],
   "source": [
    "df.head(10)\n",
    "# df.describe()\n",
    "# df.columns"
   ]
  },
  {
   "cell_type": "markdown",
   "metadata": {},
   "source": [
    "## Data Cleaning"
   ]
  },
  {
   "cell_type": "markdown",
   "metadata": {},
   "source": [
    "### Drop unnecessary columns"
   ]
  },
  {
   "cell_type": "code",
   "execution_count": 8,
   "metadata": {},
   "outputs": [
    {
     "data": {
      "text/plain": [
       "Index(['Tournament', 'Date', 'Series', 'Court', 'Surface', 'Round', 'Best of',\n",
       "       'Player_1', 'Player_2', 'Winner', 'Rank_1', 'Rank_2', 'Pts_1', 'Pts_2',\n",
       "       'Odd_1', 'Odd_2', 'score'],\n",
       "      dtype='object')"
      ]
     },
     "execution_count": 8,
     "metadata": {},
     "output_type": "execute_result"
    }
   ],
   "source": [
    "df.columns"
   ]
  },
  {
   "cell_type": "code",
   "execution_count": 9,
   "metadata": {},
   "outputs": [],
   "source": [
    "df = df[['Tournament', 'Date', 'Series', 'Court', 'Surface', 'Round', 'Best of',\n",
    "       'Player_1', 'Player_2', 'Winner', 'Rank_1', 'Rank_2', 'score']]"
   ]
  },
  {
   "cell_type": "code",
   "execution_count": 10,
   "metadata": {},
   "outputs": [
    {
     "data": {
      "text/plain": [
       "(25362, 13)"
      ]
     },
     "execution_count": 10,
     "metadata": {},
     "output_type": "execute_result"
    }
   ],
   "source": [
    "df.shape"
   ]
  },
  {
   "cell_type": "markdown",
   "metadata": {},
   "source": [
    "### Check for null values"
   ]
  },
  {
   "cell_type": "code",
   "execution_count": 11,
   "metadata": {},
   "outputs": [
    {
     "data": {
      "text/plain": [
       "Tournament    0.0\n",
       "Date          0.0\n",
       "Series        0.0\n",
       "Court         0.0\n",
       "Surface       0.0\n",
       "Round         0.0\n",
       "Best of       0.0\n",
       "Player_1      0.0\n",
       "Player_2      0.0\n",
       "Winner        0.0\n",
       "Rank_1        0.0\n",
       "Rank_2        0.0\n",
       "score         0.0\n",
       "dtype: float64"
      ]
     },
     "execution_count": 11,
     "metadata": {},
     "output_type": "execute_result"
    }
   ],
   "source": [
    "df.isna().sum() / df.shape[0]"
   ]
  },
  {
   "cell_type": "code",
   "execution_count": 19,
   "metadata": {},
   "outputs": [
    {
     "data": {
      "text/plain": [
       "score\n",
       "3-6 4-6                  476\n",
       "6-3 6-4                  455\n",
       "6-4 6-4                  441\n",
       "4-6 4-6                  440\n",
       "7-6 6-4                  295\n",
       "                        ... \n",
       "3-6 6-2 7-5 6-4            1\n",
       "6-7 7-6 6-3 6-7 14-12      1\n",
       "4-6 6-1 7-6 2-6 3-6        1\n",
       "4-6 4-6 6-3 1-6            1\n",
       "7-5 1-6 7-5                1\n",
       "Name: count, Length: 4286, dtype: int64"
      ]
     },
     "execution_count": 19,
     "metadata": {},
     "output_type": "execute_result"
    }
   ],
   "source": [
    "df[\"score\"].value_counts()"
   ]
  },
  {
   "cell_type": "markdown",
   "metadata": {},
   "source": [
    "## Exploratory Data Analysis"
   ]
  },
  {
   "cell_type": "markdown",
   "metadata": {},
   "source": [
    "## Statistical Analysis"
   ]
  }
 ],
 "metadata": {
  "kernelspec": {
   "display_name": ".venv",
   "language": "python",
   "name": "python3"
  },
  "language_info": {
   "codemirror_mode": {
    "name": "ipython",
    "version": 3
   },
   "file_extension": ".py",
   "mimetype": "text/x-python",
   "name": "python",
   "nbconvert_exporter": "python",
   "pygments_lexer": "ipython3",
   "version": "3.9.6"
  },
  "orig_nbformat": 4
 },
 "nbformat": 4,
 "nbformat_minor": 2
}
