{
 "cells": [
  {
   "cell_type": "markdown",
   "metadata": {},
   "source": [
    "# Tennis Data Analysis"
   ]
  },
  {
   "cell_type": "markdown",
   "metadata": {},
   "source": [
    "## Data Exploration"
   ]
  },
  {
   "cell_type": "markdown",
   "metadata": {},
   "source": [
    "### Import libraries"
   ]
  },
  {
   "cell_type": "code",
   "execution_count": 2,
   "metadata": {},
   "outputs": [
    {
     "name": "stderr",
     "output_type": "stream",
     "text": [
      "/var/folders/5j/3nf89wy94797pmc98lsh3xy00000gn/T/ipykernel_15871/3711532654.py:1: DeprecationWarning: \n",
      "Pyarrow will become a required dependency of pandas in the next major release of pandas (pandas 3.0),\n",
      "(to allow more performant data types, such as the Arrow string type, and better interoperability with other libraries)\n",
      "but was not found to be installed on your system.\n",
      "If this would cause problems for you,\n",
      "please provide us feedback at https://github.com/pandas-dev/pandas/issues/54466\n",
      "        \n",
      "  import pandas as pd\n"
     ]
    }
   ],
   "source": [
    "import pandas as pd\n",
    "import numpy as np\n",
    "import matplotlib.pyplot as plt\n",
    "import seaborn as sns\n",
    "\n",
    "pd.set_option(\"display.max_columns\", 200)"
   ]
  },
  {
   "cell_type": "code",
   "execution_count": 3,
   "metadata": {},
   "outputs": [],
   "source": [
    "df = pd.read_csv(\"data/atp_tennis.csv\")"
   ]
  },
  {
   "cell_type": "code",
   "execution_count": 32,
   "metadata": {},
   "outputs": [
    {
     "name": "stdout",
     "output_type": "stream",
     "text": [
      "<class 'pandas.core.frame.DataFrame'>\n",
      "RangeIndex: 25362 entries, 0 to 25361\n",
      "Data columns (total 24 columns):\n",
      " #   Column       Non-Null Count  Dtype \n",
      "---  ------       --------------  ----- \n",
      " 0   Tournament   25362 non-null  object\n",
      " 1   Date         25362 non-null  object\n",
      " 2   Series       25362 non-null  object\n",
      " 3   Court        25362 non-null  object\n",
      " 4   Surface      25362 non-null  object\n",
      " 5   Round        25362 non-null  object\n",
      " 6   Best of      25362 non-null  int64 \n",
      " 7   Player_1     25362 non-null  object\n",
      " 8   Player_2     25362 non-null  object\n",
      " 9   Winner       25362 non-null  object\n",
      " 10  Rank_1       25362 non-null  int64 \n",
      " 11  Rank_2       25362 non-null  int64 \n",
      " 12  score        25362 non-null  object\n",
      " 13  1_player_1   25197 non-null  object\n",
      " 14  1_player_2   25197 non-null  object\n",
      " 15  2_player_1   24984 non-null  object\n",
      " 16  2_player_2   24984 non-null  object\n",
      " 17  3_player_1   12245 non-null  object\n",
      " 18  3_player_2   12245 non-null  object\n",
      " 19  4_player_1   2501 non-null   object\n",
      " 20  4_player_2   2501 non-null   object\n",
      " 21  5_player_1   939 non-null    object\n",
      " 22  5_player_2   939 non-null    object\n",
      " 23  Winner_rank  25362 non-null  int64 \n",
      "dtypes: int64(4), object(20)\n",
      "memory usage: 4.6+ MB\n"
     ]
    }
   ],
   "source": [
    "df.shape\n",
    "\n",
    "df.info()"
   ]
  },
  {
   "cell_type": "code",
   "execution_count": 4,
   "metadata": {},
   "outputs": [
    {
     "data": {
      "text/plain": [
       "Index(['Tournament', 'Date', 'Series', 'Court', 'Surface', 'Round', 'Best of',\n",
       "       'Player_1', 'Player_2', 'Winner', 'Rank_1', 'Rank_2', 'Pts_1', 'Pts_2',\n",
       "       'Odd_1', 'Odd_2', 'score'],\n",
       "      dtype='object')"
      ]
     },
     "execution_count": 4,
     "metadata": {},
     "output_type": "execute_result"
    }
   ],
   "source": [
    "df.head(10)\n",
    "df.describe()\n",
    "df.columns"
   ]
  },
  {
   "cell_type": "markdown",
   "metadata": {},
   "source": [
    "## Data Cleaning"
   ]
  },
  {
   "cell_type": "markdown",
   "metadata": {},
   "source": [
    "### Drop unnecessary columns"
   ]
  },
  {
   "cell_type": "code",
   "execution_count": 32,
   "metadata": {},
   "outputs": [
    {
     "data": {
      "text/plain": [
       "Index(['Tournament', 'Date', 'Series', 'Court', 'Surface', 'Round', 'Best of',\n",
       "       'Player_1', 'Player_2', 'Winner', 'Rank_1', 'Rank_2', 'score',\n",
       "       '1_player_1', '1_player_2', '2_player_1', '2_player_2', '3_player_1',\n",
       "       '3_player_2', '4_player_1', '4_player_2', '5_player_1', '5_player_2',\n",
       "       'Winner_rank'],\n",
       "      dtype='object')"
      ]
     },
     "execution_count": 32,
     "metadata": {},
     "output_type": "execute_result"
    }
   ],
   "source": [
    "df.columns"
   ]
  },
  {
   "cell_type": "code",
   "execution_count": 5,
   "metadata": {},
   "outputs": [],
   "source": [
    "df = df[['Tournament', 'Date', 'Series', 'Court', 'Surface', 'Round', 'Best of',\n",
    "       'Player_1', 'Player_2', 'Winner', 'Rank_1', 'Rank_2', 'score']]"
   ]
  },
  {
   "cell_type": "code",
   "execution_count": 6,
   "metadata": {},
   "outputs": [
    {
     "data": {
      "text/plain": [
       "(25362, 13)"
      ]
     },
     "execution_count": 6,
     "metadata": {},
     "output_type": "execute_result"
    }
   ],
   "source": [
    "df.shape"
   ]
  },
  {
   "cell_type": "markdown",
   "metadata": {},
   "source": [
    "### Check for null values"
   ]
  },
  {
   "cell_type": "code",
   "execution_count": 7,
   "metadata": {},
   "outputs": [
    {
     "data": {
      "text/plain": [
       "Tournament    0.0\n",
       "Date          0.0\n",
       "Series        0.0\n",
       "Court         0.0\n",
       "Surface       0.0\n",
       "Round         0.0\n",
       "Best of       0.0\n",
       "Player_1      0.0\n",
       "Player_2      0.0\n",
       "Winner        0.0\n",
       "Rank_1        0.0\n",
       "Rank_2        0.0\n",
       "score         0.0\n",
       "dtype: float64"
      ]
     },
     "execution_count": 7,
     "metadata": {},
     "output_type": "execute_result"
    }
   ],
   "source": [
    "df.isna().sum() / df.shape[0]"
   ]
  },
  {
   "cell_type": "code",
   "execution_count": 15,
   "metadata": {},
   "outputs": [
    {
     "data": {
      "text/plain": [
       "Round\n",
       "1st Round        11313\n",
       "2nd Round         7252\n",
       "Quarterfinals     2521\n",
       "3rd Round         1757\n",
       "Semifinals        1279\n",
       "The Final          641\n",
       "4th Round          479\n",
       "Round Robin        120\n",
       "Name: count, dtype: int64"
      ]
     },
     "execution_count": 15,
     "metadata": {},
     "output_type": "execute_result"
    }
   ],
   "source": [
    "df[\"Round\"].value_counts()"
   ]
  },
  {
   "cell_type": "markdown",
   "metadata": {},
   "source": [
    "Split scores into individual columns of score per player per set"
   ]
  },
  {
   "cell_type": "code",
   "execution_count": 8,
   "metadata": {},
   "outputs": [
    {
     "data": {
      "text/html": [
       "<div>\n",
       "<style scoped>\n",
       "    .dataframe tbody tr th:only-of-type {\n",
       "        vertical-align: middle;\n",
       "    }\n",
       "\n",
       "    .dataframe tbody tr th {\n",
       "        vertical-align: top;\n",
       "    }\n",
       "\n",
       "    .dataframe thead th {\n",
       "        text-align: right;\n",
       "    }\n",
       "</style>\n",
       "<table border=\"1\" class=\"dataframe\">\n",
       "  <thead>\n",
       "    <tr style=\"text-align: right;\">\n",
       "      <th></th>\n",
       "      <th>Tournament</th>\n",
       "      <th>Date</th>\n",
       "      <th>Series</th>\n",
       "      <th>Court</th>\n",
       "      <th>Surface</th>\n",
       "      <th>Round</th>\n",
       "      <th>Best of</th>\n",
       "      <th>Player_1</th>\n",
       "      <th>Player_2</th>\n",
       "      <th>Winner</th>\n",
       "      <th>Rank_1</th>\n",
       "      <th>Rank_2</th>\n",
       "      <th>score</th>\n",
       "      <th>1_player_1</th>\n",
       "      <th>1_player_2</th>\n",
       "      <th>2_player_1</th>\n",
       "      <th>2_player_2</th>\n",
       "      <th>3_player_1</th>\n",
       "      <th>3_player_2</th>\n",
       "      <th>4_player_1</th>\n",
       "      <th>4_player_2</th>\n",
       "      <th>5_player_1</th>\n",
       "      <th>5_player_2</th>\n",
       "    </tr>\n",
       "  </thead>\n",
       "  <tbody>\n",
       "    <tr>\n",
       "      <th>0</th>\n",
       "      <td>Brisbane International</td>\n",
       "      <td>2012-12-31</td>\n",
       "      <td>ATP250</td>\n",
       "      <td>Outdoor</td>\n",
       "      <td>Hard</td>\n",
       "      <td>1st Round</td>\n",
       "      <td>3</td>\n",
       "      <td>Mayer F.</td>\n",
       "      <td>Giraldo S.</td>\n",
       "      <td>Mayer F.</td>\n",
       "      <td>28</td>\n",
       "      <td>57</td>\n",
       "      <td>6-4 6-4</td>\n",
       "      <td>6</td>\n",
       "      <td>4</td>\n",
       "      <td>6</td>\n",
       "      <td>4</td>\n",
       "      <td>None</td>\n",
       "      <td>None</td>\n",
       "      <td>None</td>\n",
       "      <td>None</td>\n",
       "      <td>None</td>\n",
       "      <td>None</td>\n",
       "    </tr>\n",
       "    <tr>\n",
       "      <th>1</th>\n",
       "      <td>Brisbane International</td>\n",
       "      <td>2012-12-31</td>\n",
       "      <td>ATP250</td>\n",
       "      <td>Outdoor</td>\n",
       "      <td>Hard</td>\n",
       "      <td>1st Round</td>\n",
       "      <td>3</td>\n",
       "      <td>Benneteau J.</td>\n",
       "      <td>Nieminen J.</td>\n",
       "      <td>Nieminen J.</td>\n",
       "      <td>35</td>\n",
       "      <td>41</td>\n",
       "      <td>3-6 6-2 1-6</td>\n",
       "      <td>3</td>\n",
       "      <td>6</td>\n",
       "      <td>6</td>\n",
       "      <td>2</td>\n",
       "      <td>1</td>\n",
       "      <td>6</td>\n",
       "      <td>None</td>\n",
       "      <td>None</td>\n",
       "      <td>None</td>\n",
       "      <td>None</td>\n",
       "    </tr>\n",
       "    <tr>\n",
       "      <th>2</th>\n",
       "      <td>Brisbane International</td>\n",
       "      <td>2012-12-31</td>\n",
       "      <td>ATP250</td>\n",
       "      <td>Outdoor</td>\n",
       "      <td>Hard</td>\n",
       "      <td>1st Round</td>\n",
       "      <td>3</td>\n",
       "      <td>Nishikori K.</td>\n",
       "      <td>Matosevic M.</td>\n",
       "      <td>Nishikori K.</td>\n",
       "      <td>19</td>\n",
       "      <td>49</td>\n",
       "      <td>7-5 6-2</td>\n",
       "      <td>7</td>\n",
       "      <td>5</td>\n",
       "      <td>6</td>\n",
       "      <td>2</td>\n",
       "      <td>None</td>\n",
       "      <td>None</td>\n",
       "      <td>None</td>\n",
       "      <td>None</td>\n",
       "      <td>None</td>\n",
       "      <td>None</td>\n",
       "    </tr>\n",
       "    <tr>\n",
       "      <th>3</th>\n",
       "      <td>Brisbane International</td>\n",
       "      <td>2012-12-31</td>\n",
       "      <td>ATP250</td>\n",
       "      <td>Outdoor</td>\n",
       "      <td>Hard</td>\n",
       "      <td>1st Round</td>\n",
       "      <td>3</td>\n",
       "      <td>Mitchell B.</td>\n",
       "      <td>Baghdatis M.</td>\n",
       "      <td>Baghdatis M.</td>\n",
       "      <td>326</td>\n",
       "      <td>36</td>\n",
       "      <td>4-6 4-6</td>\n",
       "      <td>4</td>\n",
       "      <td>6</td>\n",
       "      <td>4</td>\n",
       "      <td>6</td>\n",
       "      <td>None</td>\n",
       "      <td>None</td>\n",
       "      <td>None</td>\n",
       "      <td>None</td>\n",
       "      <td>None</td>\n",
       "      <td>None</td>\n",
       "    </tr>\n",
       "    <tr>\n",
       "      <th>4</th>\n",
       "      <td>Brisbane International</td>\n",
       "      <td>2013-01-01</td>\n",
       "      <td>ATP250</td>\n",
       "      <td>Outdoor</td>\n",
       "      <td>Hard</td>\n",
       "      <td>1st Round</td>\n",
       "      <td>3</td>\n",
       "      <td>Istomin D.</td>\n",
       "      <td>Klizan M.</td>\n",
       "      <td>Istomin D.</td>\n",
       "      <td>43</td>\n",
       "      <td>30</td>\n",
       "      <td>6-1 6-2</td>\n",
       "      <td>6</td>\n",
       "      <td>1</td>\n",
       "      <td>6</td>\n",
       "      <td>2</td>\n",
       "      <td>None</td>\n",
       "      <td>None</td>\n",
       "      <td>None</td>\n",
       "      <td>None</td>\n",
       "      <td>None</td>\n",
       "      <td>None</td>\n",
       "    </tr>\n",
       "    <tr>\n",
       "      <th>...</th>\n",
       "      <td>...</td>\n",
       "      <td>...</td>\n",
       "      <td>...</td>\n",
       "      <td>...</td>\n",
       "      <td>...</td>\n",
       "      <td>...</td>\n",
       "      <td>...</td>\n",
       "      <td>...</td>\n",
       "      <td>...</td>\n",
       "      <td>...</td>\n",
       "      <td>...</td>\n",
       "      <td>...</td>\n",
       "      <td>...</td>\n",
       "      <td>...</td>\n",
       "      <td>...</td>\n",
       "      <td>...</td>\n",
       "      <td>...</td>\n",
       "      <td>...</td>\n",
       "      <td>...</td>\n",
       "      <td>...</td>\n",
       "      <td>...</td>\n",
       "      <td>...</td>\n",
       "      <td>...</td>\n",
       "    </tr>\n",
       "    <tr>\n",
       "      <th>25357</th>\n",
       "      <td>Miami Open</td>\n",
       "      <td>2023-03-30</td>\n",
       "      <td>Masters 1000</td>\n",
       "      <td>Outdoor</td>\n",
       "      <td>Hard</td>\n",
       "      <td>Quarterfinals</td>\n",
       "      <td>3</td>\n",
       "      <td>Cerundolo F.</td>\n",
       "      <td>Khachanov K.</td>\n",
       "      <td>Khachanov K.</td>\n",
       "      <td>31</td>\n",
       "      <td>16</td>\n",
       "      <td>3-6 2-6</td>\n",
       "      <td>3</td>\n",
       "      <td>6</td>\n",
       "      <td>2</td>\n",
       "      <td>6</td>\n",
       "      <td>None</td>\n",
       "      <td>None</td>\n",
       "      <td>None</td>\n",
       "      <td>None</td>\n",
       "      <td>None</td>\n",
       "      <td>None</td>\n",
       "    </tr>\n",
       "    <tr>\n",
       "      <th>25358</th>\n",
       "      <td>Miami Open</td>\n",
       "      <td>2023-03-31</td>\n",
       "      <td>Masters 1000</td>\n",
       "      <td>Outdoor</td>\n",
       "      <td>Hard</td>\n",
       "      <td>Quarterfinals</td>\n",
       "      <td>3</td>\n",
       "      <td>Alcaraz C.</td>\n",
       "      <td>Fritz T.</td>\n",
       "      <td>Alcaraz C.</td>\n",
       "      <td>1</td>\n",
       "      <td>10</td>\n",
       "      <td>6-4 6-2</td>\n",
       "      <td>6</td>\n",
       "      <td>4</td>\n",
       "      <td>6</td>\n",
       "      <td>2</td>\n",
       "      <td>None</td>\n",
       "      <td>None</td>\n",
       "      <td>None</td>\n",
       "      <td>None</td>\n",
       "      <td>None</td>\n",
       "      <td>None</td>\n",
       "    </tr>\n",
       "    <tr>\n",
       "      <th>25359</th>\n",
       "      <td>Miami Open</td>\n",
       "      <td>2023-03-31</td>\n",
       "      <td>Masters 1000</td>\n",
       "      <td>Outdoor</td>\n",
       "      <td>Hard</td>\n",
       "      <td>Semifinals</td>\n",
       "      <td>3</td>\n",
       "      <td>Khachanov K.</td>\n",
       "      <td>Medvedev D.</td>\n",
       "      <td>Medvedev D.</td>\n",
       "      <td>16</td>\n",
       "      <td>5</td>\n",
       "      <td>6-7 6-3 3-6</td>\n",
       "      <td>6</td>\n",
       "      <td>7</td>\n",
       "      <td>6</td>\n",
       "      <td>3</td>\n",
       "      <td>3</td>\n",
       "      <td>6</td>\n",
       "      <td>None</td>\n",
       "      <td>None</td>\n",
       "      <td>None</td>\n",
       "      <td>None</td>\n",
       "    </tr>\n",
       "    <tr>\n",
       "      <th>25360</th>\n",
       "      <td>Miami Open</td>\n",
       "      <td>2023-04-01</td>\n",
       "      <td>Masters 1000</td>\n",
       "      <td>Outdoor</td>\n",
       "      <td>Hard</td>\n",
       "      <td>Semifinals</td>\n",
       "      <td>3</td>\n",
       "      <td>Sinner J.</td>\n",
       "      <td>Alcaraz C.</td>\n",
       "      <td>Sinner J.</td>\n",
       "      <td>11</td>\n",
       "      <td>1</td>\n",
       "      <td>6-7 6-4 6-2</td>\n",
       "      <td>6</td>\n",
       "      <td>7</td>\n",
       "      <td>6</td>\n",
       "      <td>4</td>\n",
       "      <td>6</td>\n",
       "      <td>2</td>\n",
       "      <td>None</td>\n",
       "      <td>None</td>\n",
       "      <td>None</td>\n",
       "      <td>None</td>\n",
       "    </tr>\n",
       "    <tr>\n",
       "      <th>25361</th>\n",
       "      <td>Miami Open</td>\n",
       "      <td>2023-04-02</td>\n",
       "      <td>Masters 1000</td>\n",
       "      <td>Outdoor</td>\n",
       "      <td>Hard</td>\n",
       "      <td>The Final</td>\n",
       "      <td>3</td>\n",
       "      <td>Sinner J.</td>\n",
       "      <td>Medvedev D.</td>\n",
       "      <td>Medvedev D.</td>\n",
       "      <td>11</td>\n",
       "      <td>5</td>\n",
       "      <td>5-7 3-6</td>\n",
       "      <td>5</td>\n",
       "      <td>7</td>\n",
       "      <td>3</td>\n",
       "      <td>6</td>\n",
       "      <td>None</td>\n",
       "      <td>None</td>\n",
       "      <td>None</td>\n",
       "      <td>None</td>\n",
       "      <td>None</td>\n",
       "      <td>None</td>\n",
       "    </tr>\n",
       "  </tbody>\n",
       "</table>\n",
       "<p>25362 rows × 23 columns</p>\n",
       "</div>"
      ],
      "text/plain": [
       "                   Tournament        Date        Series    Court Surface  \\\n",
       "0      Brisbane International  2012-12-31        ATP250  Outdoor    Hard   \n",
       "1      Brisbane International  2012-12-31        ATP250  Outdoor    Hard   \n",
       "2      Brisbane International  2012-12-31        ATP250  Outdoor    Hard   \n",
       "3      Brisbane International  2012-12-31        ATP250  Outdoor    Hard   \n",
       "4      Brisbane International  2013-01-01        ATP250  Outdoor    Hard   \n",
       "...                       ...         ...           ...      ...     ...   \n",
       "25357              Miami Open  2023-03-30  Masters 1000  Outdoor    Hard   \n",
       "25358              Miami Open  2023-03-31  Masters 1000  Outdoor    Hard   \n",
       "25359              Miami Open  2023-03-31  Masters 1000  Outdoor    Hard   \n",
       "25360              Miami Open  2023-04-01  Masters 1000  Outdoor    Hard   \n",
       "25361              Miami Open  2023-04-02  Masters 1000  Outdoor    Hard   \n",
       "\n",
       "               Round  Best of      Player_1      Player_2        Winner  \\\n",
       "0          1st Round        3      Mayer F.    Giraldo S.      Mayer F.   \n",
       "1          1st Round        3  Benneteau J.   Nieminen J.   Nieminen J.   \n",
       "2          1st Round        3  Nishikori K.  Matosevic M.  Nishikori K.   \n",
       "3          1st Round        3   Mitchell B.  Baghdatis M.  Baghdatis M.   \n",
       "4          1st Round        3    Istomin D.     Klizan M.    Istomin D.   \n",
       "...              ...      ...           ...           ...           ...   \n",
       "25357  Quarterfinals        3  Cerundolo F.  Khachanov K.  Khachanov K.   \n",
       "25358  Quarterfinals        3    Alcaraz C.      Fritz T.    Alcaraz C.   \n",
       "25359     Semifinals        3  Khachanov K.   Medvedev D.   Medvedev D.   \n",
       "25360     Semifinals        3     Sinner J.    Alcaraz C.     Sinner J.   \n",
       "25361      The Final        3     Sinner J.   Medvedev D.   Medvedev D.   \n",
       "\n",
       "       Rank_1  Rank_2          score 1_player_1 1_player_2 2_player_1  \\\n",
       "0          28      57     6-4 6-4             6          4          6   \n",
       "1          35      41  3-6 6-2 1-6            3          6          6   \n",
       "2          19      49     7-5 6-2             7          5          6   \n",
       "3         326      36     4-6 4-6             4          6          4   \n",
       "4          43      30     6-1 6-2             6          1          6   \n",
       "...       ...     ...            ...        ...        ...        ...   \n",
       "25357      31      16     3-6 2-6             3          6          2   \n",
       "25358       1      10     6-4 6-2             6          4          6   \n",
       "25359      16       5  6-7 6-3 3-6            6          7          6   \n",
       "25360      11       1  6-7 6-4 6-2            6          7          6   \n",
       "25361      11       5     5-7 3-6             5          7          3   \n",
       "\n",
       "      2_player_2 3_player_1 3_player_2 4_player_1 4_player_2 5_player_1  \\\n",
       "0              4       None       None       None       None       None   \n",
       "1              2          1          6       None       None       None   \n",
       "2              2       None       None       None       None       None   \n",
       "3              6       None       None       None       None       None   \n",
       "4              2       None       None       None       None       None   \n",
       "...          ...        ...        ...        ...        ...        ...   \n",
       "25357          6       None       None       None       None       None   \n",
       "25358          2       None       None       None       None       None   \n",
       "25359          3          3          6       None       None       None   \n",
       "25360          4          6          2       None       None       None   \n",
       "25361          6       None       None       None       None       None   \n",
       "\n",
       "      5_player_2  \n",
       "0           None  \n",
       "1           None  \n",
       "2           None  \n",
       "3           None  \n",
       "4           None  \n",
       "...          ...  \n",
       "25357       None  \n",
       "25358       None  \n",
       "25359       None  \n",
       "25360       None  \n",
       "25361       None  \n",
       "\n",
       "[25362 rows x 23 columns]"
      ]
     },
     "execution_count": 8,
     "metadata": {},
     "output_type": "execute_result"
    }
   ],
   "source": [
    "# Splits set score into number of games won by each player\n",
    "def split(temp):\n",
    "    split_sets = temp.split()\n",
    "    single_score = []\n",
    "    for set in split_sets:\n",
    "        scores = set.split(\"-\")\n",
    "        for score in scores:\n",
    "            single_score.append(score) \n",
    "    return single_score\n",
    "\n",
    "score_df = pd.DataFrame(df[\"score\"].apply(split).to_list())\n",
    "\n",
    "# Splits score into its own column\n",
    "set_count = 0\n",
    "for i in range(len(score_df.columns)):\n",
    "    if i%2 ==0:\n",
    "        set_count += 1\n",
    "        name = f\"{set_count}_player_1\"\n",
    "    else:\n",
    "        name = f\"{set_count}_player_2\"\n",
    "    df[name] = score_df[score_df.columns[i]]\n",
    "\n",
    "df"
   ]
  },
  {
   "cell_type": "markdown",
   "metadata": {},
   "source": [
    "Create a new column to store the rank of the match winner"
   ]
  },
  {
   "cell_type": "code",
   "execution_count": 9,
   "metadata": {},
   "outputs": [
    {
     "data": {
      "text/html": [
       "<div>\n",
       "<style scoped>\n",
       "    .dataframe tbody tr th:only-of-type {\n",
       "        vertical-align: middle;\n",
       "    }\n",
       "\n",
       "    .dataframe tbody tr th {\n",
       "        vertical-align: top;\n",
       "    }\n",
       "\n",
       "    .dataframe thead th {\n",
       "        text-align: right;\n",
       "    }\n",
       "</style>\n",
       "<table border=\"1\" class=\"dataframe\">\n",
       "  <thead>\n",
       "    <tr style=\"text-align: right;\">\n",
       "      <th></th>\n",
       "      <th>Tournament</th>\n",
       "      <th>Date</th>\n",
       "      <th>Series</th>\n",
       "      <th>Court</th>\n",
       "      <th>Surface</th>\n",
       "      <th>Round</th>\n",
       "      <th>Best of</th>\n",
       "      <th>Player_1</th>\n",
       "      <th>Player_2</th>\n",
       "      <th>Winner</th>\n",
       "      <th>Rank_1</th>\n",
       "      <th>Rank_2</th>\n",
       "      <th>score</th>\n",
       "      <th>1_player_1</th>\n",
       "      <th>1_player_2</th>\n",
       "      <th>2_player_1</th>\n",
       "      <th>2_player_2</th>\n",
       "      <th>3_player_1</th>\n",
       "      <th>3_player_2</th>\n",
       "      <th>4_player_1</th>\n",
       "      <th>4_player_2</th>\n",
       "      <th>5_player_1</th>\n",
       "      <th>5_player_2</th>\n",
       "      <th>Winner_rank</th>\n",
       "    </tr>\n",
       "  </thead>\n",
       "  <tbody>\n",
       "    <tr>\n",
       "      <th>0</th>\n",
       "      <td>Brisbane International</td>\n",
       "      <td>2012-12-31</td>\n",
       "      <td>ATP250</td>\n",
       "      <td>Outdoor</td>\n",
       "      <td>Hard</td>\n",
       "      <td>1st Round</td>\n",
       "      <td>3</td>\n",
       "      <td>Mayer F.</td>\n",
       "      <td>Giraldo S.</td>\n",
       "      <td>Mayer F.</td>\n",
       "      <td>28</td>\n",
       "      <td>57</td>\n",
       "      <td>6-4 6-4</td>\n",
       "      <td>6</td>\n",
       "      <td>4</td>\n",
       "      <td>6</td>\n",
       "      <td>4</td>\n",
       "      <td>None</td>\n",
       "      <td>None</td>\n",
       "      <td>None</td>\n",
       "      <td>None</td>\n",
       "      <td>None</td>\n",
       "      <td>None</td>\n",
       "      <td>28</td>\n",
       "    </tr>\n",
       "    <tr>\n",
       "      <th>1</th>\n",
       "      <td>Brisbane International</td>\n",
       "      <td>2012-12-31</td>\n",
       "      <td>ATP250</td>\n",
       "      <td>Outdoor</td>\n",
       "      <td>Hard</td>\n",
       "      <td>1st Round</td>\n",
       "      <td>3</td>\n",
       "      <td>Benneteau J.</td>\n",
       "      <td>Nieminen J.</td>\n",
       "      <td>Nieminen J.</td>\n",
       "      <td>35</td>\n",
       "      <td>41</td>\n",
       "      <td>3-6 6-2 1-6</td>\n",
       "      <td>3</td>\n",
       "      <td>6</td>\n",
       "      <td>6</td>\n",
       "      <td>2</td>\n",
       "      <td>1</td>\n",
       "      <td>6</td>\n",
       "      <td>None</td>\n",
       "      <td>None</td>\n",
       "      <td>None</td>\n",
       "      <td>None</td>\n",
       "      <td>41</td>\n",
       "    </tr>\n",
       "    <tr>\n",
       "      <th>2</th>\n",
       "      <td>Brisbane International</td>\n",
       "      <td>2012-12-31</td>\n",
       "      <td>ATP250</td>\n",
       "      <td>Outdoor</td>\n",
       "      <td>Hard</td>\n",
       "      <td>1st Round</td>\n",
       "      <td>3</td>\n",
       "      <td>Nishikori K.</td>\n",
       "      <td>Matosevic M.</td>\n",
       "      <td>Nishikori K.</td>\n",
       "      <td>19</td>\n",
       "      <td>49</td>\n",
       "      <td>7-5 6-2</td>\n",
       "      <td>7</td>\n",
       "      <td>5</td>\n",
       "      <td>6</td>\n",
       "      <td>2</td>\n",
       "      <td>None</td>\n",
       "      <td>None</td>\n",
       "      <td>None</td>\n",
       "      <td>None</td>\n",
       "      <td>None</td>\n",
       "      <td>None</td>\n",
       "      <td>19</td>\n",
       "    </tr>\n",
       "    <tr>\n",
       "      <th>3</th>\n",
       "      <td>Brisbane International</td>\n",
       "      <td>2012-12-31</td>\n",
       "      <td>ATP250</td>\n",
       "      <td>Outdoor</td>\n",
       "      <td>Hard</td>\n",
       "      <td>1st Round</td>\n",
       "      <td>3</td>\n",
       "      <td>Mitchell B.</td>\n",
       "      <td>Baghdatis M.</td>\n",
       "      <td>Baghdatis M.</td>\n",
       "      <td>326</td>\n",
       "      <td>36</td>\n",
       "      <td>4-6 4-6</td>\n",
       "      <td>4</td>\n",
       "      <td>6</td>\n",
       "      <td>4</td>\n",
       "      <td>6</td>\n",
       "      <td>None</td>\n",
       "      <td>None</td>\n",
       "      <td>None</td>\n",
       "      <td>None</td>\n",
       "      <td>None</td>\n",
       "      <td>None</td>\n",
       "      <td>36</td>\n",
       "    </tr>\n",
       "    <tr>\n",
       "      <th>4</th>\n",
       "      <td>Brisbane International</td>\n",
       "      <td>2013-01-01</td>\n",
       "      <td>ATP250</td>\n",
       "      <td>Outdoor</td>\n",
       "      <td>Hard</td>\n",
       "      <td>1st Round</td>\n",
       "      <td>3</td>\n",
       "      <td>Istomin D.</td>\n",
       "      <td>Klizan M.</td>\n",
       "      <td>Istomin D.</td>\n",
       "      <td>43</td>\n",
       "      <td>30</td>\n",
       "      <td>6-1 6-2</td>\n",
       "      <td>6</td>\n",
       "      <td>1</td>\n",
       "      <td>6</td>\n",
       "      <td>2</td>\n",
       "      <td>None</td>\n",
       "      <td>None</td>\n",
       "      <td>None</td>\n",
       "      <td>None</td>\n",
       "      <td>None</td>\n",
       "      <td>None</td>\n",
       "      <td>43</td>\n",
       "    </tr>\n",
       "    <tr>\n",
       "      <th>...</th>\n",
       "      <td>...</td>\n",
       "      <td>...</td>\n",
       "      <td>...</td>\n",
       "      <td>...</td>\n",
       "      <td>...</td>\n",
       "      <td>...</td>\n",
       "      <td>...</td>\n",
       "      <td>...</td>\n",
       "      <td>...</td>\n",
       "      <td>...</td>\n",
       "      <td>...</td>\n",
       "      <td>...</td>\n",
       "      <td>...</td>\n",
       "      <td>...</td>\n",
       "      <td>...</td>\n",
       "      <td>...</td>\n",
       "      <td>...</td>\n",
       "      <td>...</td>\n",
       "      <td>...</td>\n",
       "      <td>...</td>\n",
       "      <td>...</td>\n",
       "      <td>...</td>\n",
       "      <td>...</td>\n",
       "      <td>...</td>\n",
       "    </tr>\n",
       "    <tr>\n",
       "      <th>25357</th>\n",
       "      <td>Miami Open</td>\n",
       "      <td>2023-03-30</td>\n",
       "      <td>Masters 1000</td>\n",
       "      <td>Outdoor</td>\n",
       "      <td>Hard</td>\n",
       "      <td>Quarterfinals</td>\n",
       "      <td>3</td>\n",
       "      <td>Cerundolo F.</td>\n",
       "      <td>Khachanov K.</td>\n",
       "      <td>Khachanov K.</td>\n",
       "      <td>31</td>\n",
       "      <td>16</td>\n",
       "      <td>3-6 2-6</td>\n",
       "      <td>3</td>\n",
       "      <td>6</td>\n",
       "      <td>2</td>\n",
       "      <td>6</td>\n",
       "      <td>None</td>\n",
       "      <td>None</td>\n",
       "      <td>None</td>\n",
       "      <td>None</td>\n",
       "      <td>None</td>\n",
       "      <td>None</td>\n",
       "      <td>16</td>\n",
       "    </tr>\n",
       "    <tr>\n",
       "      <th>25358</th>\n",
       "      <td>Miami Open</td>\n",
       "      <td>2023-03-31</td>\n",
       "      <td>Masters 1000</td>\n",
       "      <td>Outdoor</td>\n",
       "      <td>Hard</td>\n",
       "      <td>Quarterfinals</td>\n",
       "      <td>3</td>\n",
       "      <td>Alcaraz C.</td>\n",
       "      <td>Fritz T.</td>\n",
       "      <td>Alcaraz C.</td>\n",
       "      <td>1</td>\n",
       "      <td>10</td>\n",
       "      <td>6-4 6-2</td>\n",
       "      <td>6</td>\n",
       "      <td>4</td>\n",
       "      <td>6</td>\n",
       "      <td>2</td>\n",
       "      <td>None</td>\n",
       "      <td>None</td>\n",
       "      <td>None</td>\n",
       "      <td>None</td>\n",
       "      <td>None</td>\n",
       "      <td>None</td>\n",
       "      <td>1</td>\n",
       "    </tr>\n",
       "    <tr>\n",
       "      <th>25359</th>\n",
       "      <td>Miami Open</td>\n",
       "      <td>2023-03-31</td>\n",
       "      <td>Masters 1000</td>\n",
       "      <td>Outdoor</td>\n",
       "      <td>Hard</td>\n",
       "      <td>Semifinals</td>\n",
       "      <td>3</td>\n",
       "      <td>Khachanov K.</td>\n",
       "      <td>Medvedev D.</td>\n",
       "      <td>Medvedev D.</td>\n",
       "      <td>16</td>\n",
       "      <td>5</td>\n",
       "      <td>6-7 6-3 3-6</td>\n",
       "      <td>6</td>\n",
       "      <td>7</td>\n",
       "      <td>6</td>\n",
       "      <td>3</td>\n",
       "      <td>3</td>\n",
       "      <td>6</td>\n",
       "      <td>None</td>\n",
       "      <td>None</td>\n",
       "      <td>None</td>\n",
       "      <td>None</td>\n",
       "      <td>5</td>\n",
       "    </tr>\n",
       "    <tr>\n",
       "      <th>25360</th>\n",
       "      <td>Miami Open</td>\n",
       "      <td>2023-04-01</td>\n",
       "      <td>Masters 1000</td>\n",
       "      <td>Outdoor</td>\n",
       "      <td>Hard</td>\n",
       "      <td>Semifinals</td>\n",
       "      <td>3</td>\n",
       "      <td>Sinner J.</td>\n",
       "      <td>Alcaraz C.</td>\n",
       "      <td>Sinner J.</td>\n",
       "      <td>11</td>\n",
       "      <td>1</td>\n",
       "      <td>6-7 6-4 6-2</td>\n",
       "      <td>6</td>\n",
       "      <td>7</td>\n",
       "      <td>6</td>\n",
       "      <td>4</td>\n",
       "      <td>6</td>\n",
       "      <td>2</td>\n",
       "      <td>None</td>\n",
       "      <td>None</td>\n",
       "      <td>None</td>\n",
       "      <td>None</td>\n",
       "      <td>11</td>\n",
       "    </tr>\n",
       "    <tr>\n",
       "      <th>25361</th>\n",
       "      <td>Miami Open</td>\n",
       "      <td>2023-04-02</td>\n",
       "      <td>Masters 1000</td>\n",
       "      <td>Outdoor</td>\n",
       "      <td>Hard</td>\n",
       "      <td>The Final</td>\n",
       "      <td>3</td>\n",
       "      <td>Sinner J.</td>\n",
       "      <td>Medvedev D.</td>\n",
       "      <td>Medvedev D.</td>\n",
       "      <td>11</td>\n",
       "      <td>5</td>\n",
       "      <td>5-7 3-6</td>\n",
       "      <td>5</td>\n",
       "      <td>7</td>\n",
       "      <td>3</td>\n",
       "      <td>6</td>\n",
       "      <td>None</td>\n",
       "      <td>None</td>\n",
       "      <td>None</td>\n",
       "      <td>None</td>\n",
       "      <td>None</td>\n",
       "      <td>None</td>\n",
       "      <td>5</td>\n",
       "    </tr>\n",
       "  </tbody>\n",
       "</table>\n",
       "<p>25362 rows × 24 columns</p>\n",
       "</div>"
      ],
      "text/plain": [
       "                   Tournament        Date        Series    Court Surface  \\\n",
       "0      Brisbane International  2012-12-31        ATP250  Outdoor    Hard   \n",
       "1      Brisbane International  2012-12-31        ATP250  Outdoor    Hard   \n",
       "2      Brisbane International  2012-12-31        ATP250  Outdoor    Hard   \n",
       "3      Brisbane International  2012-12-31        ATP250  Outdoor    Hard   \n",
       "4      Brisbane International  2013-01-01        ATP250  Outdoor    Hard   \n",
       "...                       ...         ...           ...      ...     ...   \n",
       "25357              Miami Open  2023-03-30  Masters 1000  Outdoor    Hard   \n",
       "25358              Miami Open  2023-03-31  Masters 1000  Outdoor    Hard   \n",
       "25359              Miami Open  2023-03-31  Masters 1000  Outdoor    Hard   \n",
       "25360              Miami Open  2023-04-01  Masters 1000  Outdoor    Hard   \n",
       "25361              Miami Open  2023-04-02  Masters 1000  Outdoor    Hard   \n",
       "\n",
       "               Round  Best of      Player_1      Player_2        Winner  \\\n",
       "0          1st Round        3      Mayer F.    Giraldo S.      Mayer F.   \n",
       "1          1st Round        3  Benneteau J.   Nieminen J.   Nieminen J.   \n",
       "2          1st Round        3  Nishikori K.  Matosevic M.  Nishikori K.   \n",
       "3          1st Round        3   Mitchell B.  Baghdatis M.  Baghdatis M.   \n",
       "4          1st Round        3    Istomin D.     Klizan M.    Istomin D.   \n",
       "...              ...      ...           ...           ...           ...   \n",
       "25357  Quarterfinals        3  Cerundolo F.  Khachanov K.  Khachanov K.   \n",
       "25358  Quarterfinals        3    Alcaraz C.      Fritz T.    Alcaraz C.   \n",
       "25359     Semifinals        3  Khachanov K.   Medvedev D.   Medvedev D.   \n",
       "25360     Semifinals        3     Sinner J.    Alcaraz C.     Sinner J.   \n",
       "25361      The Final        3     Sinner J.   Medvedev D.   Medvedev D.   \n",
       "\n",
       "       Rank_1  Rank_2          score 1_player_1 1_player_2 2_player_1  \\\n",
       "0          28      57     6-4 6-4             6          4          6   \n",
       "1          35      41  3-6 6-2 1-6            3          6          6   \n",
       "2          19      49     7-5 6-2             7          5          6   \n",
       "3         326      36     4-6 4-6             4          6          4   \n",
       "4          43      30     6-1 6-2             6          1          6   \n",
       "...       ...     ...            ...        ...        ...        ...   \n",
       "25357      31      16     3-6 2-6             3          6          2   \n",
       "25358       1      10     6-4 6-2             6          4          6   \n",
       "25359      16       5  6-7 6-3 3-6            6          7          6   \n",
       "25360      11       1  6-7 6-4 6-2            6          7          6   \n",
       "25361      11       5     5-7 3-6             5          7          3   \n",
       "\n",
       "      2_player_2 3_player_1 3_player_2 4_player_1 4_player_2 5_player_1  \\\n",
       "0              4       None       None       None       None       None   \n",
       "1              2          1          6       None       None       None   \n",
       "2              2       None       None       None       None       None   \n",
       "3              6       None       None       None       None       None   \n",
       "4              2       None       None       None       None       None   \n",
       "...          ...        ...        ...        ...        ...        ...   \n",
       "25357          6       None       None       None       None       None   \n",
       "25358          2       None       None       None       None       None   \n",
       "25359          3          3          6       None       None       None   \n",
       "25360          4          6          2       None       None       None   \n",
       "25361          6       None       None       None       None       None   \n",
       "\n",
       "      5_player_2  Winner_rank  \n",
       "0           None           28  \n",
       "1           None           41  \n",
       "2           None           19  \n",
       "3           None           36  \n",
       "4           None           43  \n",
       "...          ...          ...  \n",
       "25357       None           16  \n",
       "25358       None            1  \n",
       "25359       None            5  \n",
       "25360       None           11  \n",
       "25361       None            5  \n",
       "\n",
       "[25362 rows x 24 columns]"
      ]
     },
     "execution_count": 9,
     "metadata": {},
     "output_type": "execute_result"
    }
   ],
   "source": [
    "# Determines which player (1 or 2) was the winner\n",
    "def get_winner_rank(row):\n",
    "    if row[\"Winner\"] == row[\"Player_1\"]:\n",
    "        return row[\"Rank_1\"]\n",
    "    else:\n",
    "        return row[\"Rank_2\"]\n",
    "\n",
    "# Sets winner_rank to the rank of the winning player\n",
    "df[\"Winner_rank\"] = df.apply(get_winner_rank, axis=1)\n",
    "\n",
    "df"
   ]
  },
  {
   "cell_type": "markdown",
   "metadata": {},
   "source": [
    "## Exploratory Data Analysis"
   ]
  },
  {
   "cell_type": "markdown",
   "metadata": {},
   "source": [
    "### Univariate "
   ]
  },
  {
   "cell_type": "markdown",
   "metadata": {},
   "source": [
    "The chart below summarizes the spread of data about the rank of the match winner. The main outlier in the graph is from a match in which a player ranked 1851st won, though there are a number of other outliers  "
   ]
  },
  {
   "cell_type": "code",
   "execution_count": 13,
   "metadata": {},
   "outputs": [
    {
     "data": {
      "text/plain": [
       "<Figure size 1200x800 with 0 Axes>"
      ]
     },
     "execution_count": 13,
     "metadata": {},
     "output_type": "execute_result"
    },
    {
     "data": {
      "image/png": "[encoded data removed]",
      "text/plain": [
       "<Figure size 640x480 with 1 Axes>"
      ]
     },
     "metadata": {},
     "output_type": "display_data"
    },
    {
     "data": {
      "text/plain": [
       "<Figure size 1200x800 with 0 Axes>"
      ]
     },
     "metadata": {},
     "output_type": "display_data"
    }
   ],
   "source": [
    "sns.boxplot(data=df, x=\"Winner_rank\")\n",
    "plt.figure(figsize=(12,8))"
   ]
  },
  {
   "cell_type": "markdown",
   "metadata": {},
   "source": [
    "The chart below shows the distribution of the types of court surfaces the matches were played on. "
   ]
  },
  {
   "cell_type": "code",
   "execution_count": 38,
   "metadata": {},
   "outputs": [
    {
     "data": {
      "text/plain": [
       "Text(0.5, 0.98, 'Histogram of Surfaces Played on')"
      ]
     },
     "execution_count": 38,
     "metadata": {},
     "output_type": "execute_result"
    },
    {
     "data": {
      "image/png": "[encoded data removed]",
      "text/plain": [
       "<Figure size 600x600 with 1 Axes>"
      ]
     },
     "metadata": {},
     "output_type": "display_data"
    }
   ],
   "source": [
    "df[\"Surface\"].hist(figsize=(6, 6))\n",
    "plt.suptitle(\"Histogram of Surfaces Played on\")"
   ]
  },
  {
   "cell_type": "markdown",
   "metadata": {},
   "source": [
    "The chart belows shows the amount of sets the match was out of"
   ]
  },
  {
   "cell_type": "code",
   "execution_count": 50,
   "metadata": {},
   "outputs": [
    {
     "data": {
      "text/plain": [
       "Text(0.5, 0.98, 'Histogram of Number of Sets in the Match')"
      ]
     },
     "execution_count": 50,
     "metadata": {},
     "output_type": "execute_result"
    },
    {
     "data": {
      "image/png": "[encoded data removed]",
      "text/plain": [
       "<Figure size 600x400 with 1 Axes>"
      ]
     },
     "metadata": {},
     "output_type": "display_data"
    }
   ],
   "source": [
    "df[\"Best of\"].hist(figsize=(6, 4), bins=100)\n",
    "plt.suptitle(\"Histogram of Max Number of Sets in the Match\")"
   ]
  },
  {
   "cell_type": "markdown",
   "metadata": {},
   "source": [
    "The chart below shows the distribution of the level of the tournmanets. "
   ]
  },
  {
   "cell_type": "code",
   "execution_count": 55,
   "metadata": {},
   "outputs": [
    {
     "data": {
      "text/plain": [
       "Text(0.5, 0.98, 'Histogram of Tournament Level')"
      ]
     },
     "execution_count": 55,
     "metadata": {},
     "output_type": "execute_result"
    },
    {
     "data": {
      "image/png": "[encoded data removed]",
      "text/plain": [
       "<Figure size 1000x800 with 1 Axes>"
      ]
     },
     "metadata": {},
     "output_type": "display_data"
    }
   ],
   "source": [
    "df[\"Series\"].hist(figsize=(10, 8))\n",
    "plt.suptitle(\"Histogram of Tournament Level\")\n"
   ]
  },
  {
   "cell_type": "markdown",
   "metadata": {},
   "source": [
    "### Multivariate"
   ]
  },
  {
   "cell_type": "code",
   "execution_count": 60,
   "metadata": {},
   "outputs": [
    {
     "data": {
      "image/png": "[encoded data removed]",
      "text/plain": [
       "<Figure size 640x480 with 1 Axes>"
      ]
     },
     "metadata": {},
     "output_type": "display_data"
    }
   ],
   "source": [
    "sns.scatterplot(data=df, x=\"Rank_1\", y=\"Rank_2\", hue=\"Winner_rank\")\n",
    "plt.title(\"Player Rank\")"
   ]
  },
  {
   "cell_type": "markdown",
   "metadata": {},
   "source": [
    "The graph above displays the relationship between the players' ranks. Points on the graph that are close to or on the line y=x represent a more equal matchup as the players' ranks are close to each other. The color of the point represents that rank range of the player the won the match; lighter colored points represent a higher ranked player winning and darker colored points represent a lower ranked player winning. "
   ]
  },
  {
   "cell_type": "markdown",
   "metadata": {},
   "source": [
    "## Statistical Analysis"
   ]
  },
  {
   "cell_type": "markdown",
   "metadata": {},
   "source": [
    "Q1: In what percent of matches does the winner of the first set win the entire match? "
   ]
  },
  {
   "cell_type": "code",
   "execution_count": 18,
   "metadata": {},
   "outputs": [],
   "source": [
    "Q1_df = df[['Player_1', 'Player_2', 'Winner', '1_player_1', '1_player_2']]"
   ]
  },
  {
   "cell_type": "code",
   "execution_count": 25,
   "metadata": {},
   "outputs": [
    {
     "data": {
      "text/plain": [
       "79.55208579765002"
      ]
     },
     "execution_count": 25,
     "metadata": {},
     "output_type": "execute_result"
    }
   ],
   "source": [
    "set1_match_winner = sum((Q1_df['1_player_1'] > Q1_df['1_player_2']) & (Q1_df['Winner'] == Q1_df['Player_1']) \n",
    "                        | (Q1_df['1_player_2'] > Q1_df['1_player_1']) & (Q1_df['Winner'] == Q1_df['Player_2']))\n",
    "\n",
    "percent = (set1_match_winner/len(Q1_df)) * 100\n",
    "percent"
   ]
  },
  {
   "cell_type": "markdown",
   "metadata": {},
   "source": [
    "This analysis shows that in 79.55% of all matches, the player that won the first set also won the entire match, indicating that following the first set of a tennis match, one can relatively accurately predict the winner of the match. "
   ]
  },
  {
   "cell_type": "markdown",
   "metadata": {},
   "source": [
    "Q2: How does the court surface affect the win rate of a specific player? <-- using Carlos Alcaraz for this analysis"
   ]
  },
  {
   "cell_type": "code",
   "execution_count": 47,
   "metadata": {},
   "outputs": [],
   "source": [
    "# Creates dataframes filtered down to only the matches won on each respective surface\n",
    "grass_wins = df.loc[(df['Winner'] == (\"Alcaraz C.\")) & (df['Surface'] == (\"Grass\"))]\n",
    "clay_wins = df.loc[(df['Winner'] == (\"Alcaraz C.\")) & (df['Surface'] == (\"Clay\"))]\n",
    "hardcourt_wins = df.loc[(df['Winner'] == (\"Alcaraz C.\")) & (df['Surface'] == (\"Hard\"))]"
   ]
  },
  {
   "cell_type": "markdown",
   "metadata": {},
   "source": [
    "Percent of grass court matches won:"
   ]
  },
  {
   "cell_type": "code",
   "execution_count": 36,
   "metadata": {},
   "outputs": [
    {
     "data": {
      "text/plain": [
       "66.66666666666666"
      ]
     },
     "execution_count": 36,
     "metadata": {},
     "output_type": "execute_result"
    }
   ],
   "source": [
    "grass_matches = df.loc[((df['Player_1'] == (\"Alcaraz C.\")) & (df['Surface'] == (\"Grass\"))) \n",
    "                       | ((df['Player_2'] == (\"Alcaraz C.\")) & (df['Surface'] == (\"Grass\")))]\n",
    "\n",
    "percent = (len(grass_wins)/len(grass_matches)) * 100\n",
    "percent"
   ]
  },
  {
   "cell_type": "markdown",
   "metadata": {},
   "source": [
    "Percent of clay court matches won:"
   ]
  },
  {
   "cell_type": "code",
   "execution_count": 37,
   "metadata": {},
   "outputs": [
    {
     "data": {
      "text/plain": [
       "79.62962962962963"
      ]
     },
     "execution_count": 37,
     "metadata": {},
     "output_type": "execute_result"
    }
   ],
   "source": [
    "clay_matches = df.loc[((df['Player_1'] == (\"Alcaraz C.\")) & (df['Surface'] == (\"Clay\"))) \n",
    "                       | ((df['Player_2'] == (\"Alcaraz C.\")) & (df['Surface'] == (\"Clay\")))]\n",
    "\n",
    "percent = (len(clay_wins)/len(clay_matches)) * 100\n",
    "percent"
   ]
  },
  {
   "cell_type": "markdown",
   "metadata": {},
   "source": [
    "Percent of hard court matches won:"
   ]
  },
  {
   "cell_type": "code",
   "execution_count": 38,
   "metadata": {},
   "outputs": [
    {
     "data": {
      "text/plain": [
       "73.61111111111111"
      ]
     },
     "execution_count": 38,
     "metadata": {},
     "output_type": "execute_result"
    }
   ],
   "source": [
    "hardcourt_matches = df.loc[((df['Player_1'] == (\"Alcaraz C.\")) & (df['Surface'] == (\"Hard\"))) \n",
    "                       | ((df['Player_2'] == (\"Alcaraz C.\")) & (df['Surface'] == (\"Hard\")))]\n",
    "\n",
    "percent = (len(hardcourt_wins)/len(hardcourt_matches)) * 100\n",
    "percent"
   ]
  },
  {
   "cell_type": "markdown",
   "metadata": {},
   "source": [
    "From this analysis, we have determined that Carlos Alcaraz won 66.66% of his grass court matches, 79.63% of his clay court matches, and 73.61% of his hard court matches. This incidates that Carlos Alcaraz performs best when playing on clay courts. "
   ]
  },
  {
   "cell_type": "markdown",
   "metadata": {},
   "source": [
    "Q3: In what round of a tournament is an upset most likely to occur?"
   ]
  },
  {
   "cell_type": "code",
   "execution_count": null,
   "metadata": {},
   "outputs": [],
   "source": [
    "# Creates a dataframe of all upset matches\n",
    "upset_matches = df.loc[((df['Winner_rank'] == df['Rank_1']) & (df['Rank_1'] > df['Rank_2'])) \n",
    "                       | ((df['Winner_rank'] == df['Rank_2']) & (df['Rank_2'] > df['Rank_1']))]\n"
   ]
  },
  {
   "cell_type": "code",
   "execution_count": 22,
   "metadata": {},
   "outputs": [
    {
     "data": {
      "text/plain": [
       "47.5875224416517"
      ]
     },
     "execution_count": 22,
     "metadata": {},
     "output_type": "execute_result"
    }
   ],
   "source": [
    "# Filters to only upset matches in the first round\n",
    "round_1_upsets = upset_matches.loc[upset_matches['Round'] == ('1st Round')]\n",
    "\n",
    "# Calculates the percent of upset matches that occur in the first round\n",
    "percent = (len(round_1_upsets)/len(upset_matches)) * 100\n",
    "percent"
   ]
  },
  {
   "cell_type": "code",
   "execution_count": 23,
   "metadata": {},
   "outputs": [
    {
     "data": {
      "text/plain": [
       "26.582136445242373"
      ]
     },
     "execution_count": 23,
     "metadata": {},
     "output_type": "execute_result"
    }
   ],
   "source": [
    "# Filters to only upset matches in the second round\n",
    "round_2_upsets = upset_matches.loc[upset_matches['Round'] == ('2nd Round')]\n",
    "\n",
    "# Calculates the percent of upset matches that occur in the second round\n",
    "percent = (len(round_2_upsets)/len(upset_matches)) * 100\n",
    "percent"
   ]
  },
  {
   "cell_type": "code",
   "execution_count": 24,
   "metadata": {},
   "outputs": [
    {
     "data": {
      "text/plain": [
       "5.868491921005385"
      ]
     },
     "execution_count": 24,
     "metadata": {},
     "output_type": "execute_result"
    }
   ],
   "source": [
    "# Filters to only upset matches in the thrid round\n",
    "round_3_upsets = upset_matches.loc[upset_matches['Round'] == ('3rd Round')]\n",
    "\n",
    "# Calculates the percent of upset matches that occur in the third round\n",
    "percent = (len(round_3_upsets)/len(upset_matches)) * 100\n",
    "percent"
   ]
  },
  {
   "cell_type": "code",
   "execution_count": 25,
   "metadata": {},
   "outputs": [
    {
     "data": {
      "text/plain": [
       "1.4474865350089767"
      ]
     },
     "execution_count": 25,
     "metadata": {},
     "output_type": "execute_result"
    }
   ],
   "source": [
    "# Filters to only upset matches in the fourth round\n",
    "round_4_upsets = upset_matches.loc[upset_matches['Round'] == ('4th Round')]\n",
    "\n",
    "# Calculates the percent of upset matches that occur in the fourth round\n",
    "percent = (len(round_4_upsets)/len(upset_matches)) * 100\n",
    "percent"
   ]
  },
  {
   "cell_type": "code",
   "execution_count": 26,
   "metadata": {},
   "outputs": [
    {
     "data": {
      "text/plain": [
       "10.132405745062837"
      ]
     },
     "execution_count": 26,
     "metadata": {},
     "output_type": "execute_result"
    }
   ],
   "source": [
    "# Filters to only upset matches in the quarter finals\n",
    "quarter_upsets = upset_matches.loc[upset_matches['Round'] == ('Quarterfinals')]\n",
    "\n",
    "# Calculates the percent of upset matches that occur in the quarter finals\n",
    "percent = (len(quarter_upsets)/len(upset_matches)) * 100\n",
    "percent"
   ]
  },
  {
   "cell_type": "code",
   "execution_count": 27,
   "metadata": {},
   "outputs": [
    {
     "data": {
      "text/plain": [
       "5.341113105924596"
      ]
     },
     "execution_count": 27,
     "metadata": {},
     "output_type": "execute_result"
    }
   ],
   "source": [
    "# Filters to only upset matches in the semi finals\n",
    "semi_upsets = upset_matches.loc[upset_matches['Round'] == ('Semifinals')]\n",
    "\n",
    "# Calculates the percent of upset matches that occur in the semi finals\n",
    "percent = (len(semi_upsets)/len(upset_matches)) * 100\n",
    "percent"
   ]
  },
  {
   "cell_type": "code",
   "execution_count": 28,
   "metadata": {},
   "outputs": [
    {
     "data": {
      "text/plain": [
       "2.5920107719928187"
      ]
     },
     "execution_count": 28,
     "metadata": {},
     "output_type": "execute_result"
    }
   ],
   "source": [
    "# Filters to only upset matches in the finals\n",
    "final_upsets = upset_matches.loc[upset_matches['Round'] == ('The Final')]\n",
    "\n",
    "# Calculates the percent of upset matches that occur in the finals\n",
    "percent = (len(final_upsets)/len(upset_matches)) * 100\n",
    "percent"
   ]
  },
  {
   "cell_type": "markdown",
   "metadata": {},
   "source": [
    "From this analysis, we know that the vast majority of upset matches occur in the first round of tournements, making up 47.58% of all upsets. The next highest is the second round, with 26.58%. Then the quarterfinals with 10.13%, the third round with 5.8%, the semifinals with 5.34%, the finals with 2.59%, and last, the fourth round with 1.45%."
   ]
  }
 ],
 "metadata": {
  "kernelspec": {
   "display_name": ".venv",
   "language": "python",
   "name": "python3"
  },
  "language_info": {
   "codemirror_mode": {
    "name": "ipython",
    "version": 3
   },
   "file_extension": ".py",
   "mimetype": "text/x-python",
   "name": "python",
   "nbconvert_exporter": "python",
   "pygments_lexer": "ipython3",
   "version": "3.9.6"
  },
  "orig_nbformat": 4
 },
 "nbformat": 4,
 "nbformat_minor": 2
}
